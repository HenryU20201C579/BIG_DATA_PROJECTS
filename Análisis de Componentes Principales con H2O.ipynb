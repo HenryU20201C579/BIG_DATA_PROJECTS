{
 "cells": [
  {
   "cell_type": "markdown",
   "metadata": {},
   "source": [
    "# Análisis de Componentes Principales con H2O"
   ]
  },
  {
   "cell_type": "code",
   "execution_count": 1,
   "metadata": {},
   "outputs": [],
   "source": [
    "import pandas as pd\n",
    "import matplotlib.pyplot as plt\n",
    "import seaborn as sns\n",
    "import numpy as np\n",
    "import scipy.stats as ss\n",
    "\n",
    "from sklearn.decomposition import PCA\n",
    "from sklearn.pipeline import make_pipeline\n",
    "from sklearn.preprocessing import StandardScaler\n",
    "from sklearn.preprocessing import scale"
   ]
  },
  {
   "cell_type": "markdown",
   "metadata": {},
   "source": [
    "### Comprensión del negocio "
   ]
  },
  {
   "cell_type": "markdown",
   "metadata": {},
   "source": [
    "Objetivo del negocio: Identificar departamentos del Perú con características similares."
   ]
  },
  {
   "attachments": {},
   "cell_type": "markdown",
   "metadata": {},
   "source": [
    "Objetivo de machine learning: Aplicar un modelo de análisis de componentes principales para segmentar los departamentos del Perú."
   ]
  },
  {
   "cell_type": "markdown",
   "metadata": {},
   "source": [
    "### Comprensión de los datos "
   ]
  },
  {
   "cell_type": "code",
   "execution_count": 2,
   "metadata": {},
   "outputs": [
    {
     "name": "stdout",
     "output_type": "stream",
     "text": [
      "Requirement already satisfied: h2o in c:\\users\\hp\\anaconda3\\lib\\site-packages (3.40.0.4)\n",
      "Requirement already satisfied: future in c:\\users\\hp\\anaconda3\\lib\\site-packages (from h2o) (0.18.3)\n",
      "Requirement already satisfied: tabulate in c:\\users\\hp\\anaconda3\\lib\\site-packages (from h2o) (0.9.0)\n",
      "Requirement already satisfied: requests in c:\\users\\hp\\anaconda3\\lib\\site-packages (from h2o) (2.31.0)\n",
      "Requirement already satisfied: charset-normalizer<4,>=2 in c:\\users\\hp\\anaconda3\\lib\\site-packages (from requests->h2o) (2.0.4)\n",
      "Requirement already satisfied: idna<4,>=2.5 in c:\\users\\hp\\anaconda3\\lib\\site-packages (from requests->h2o) (3.4)\n",
      "Requirement already satisfied: urllib3<3,>=1.21.1 in c:\\users\\hp\\anaconda3\\lib\\site-packages (from requests->h2o) (1.26.18)\n",
      "Requirement already satisfied: certifi>=2017.4.17 in c:\\users\\hp\\anaconda3\\lib\\site-packages (from requests->h2o) (2024.2.2)\n"
     ]
    }
   ],
   "source": [
    "! pip install h2o"
   ]
  },
  {
   "cell_type": "code",
   "execution_count": 3,
   "metadata": {},
   "outputs": [],
   "source": [
    "import h2o"
   ]
  },
  {
   "cell_type": "code",
   "execution_count": 4,
   "metadata": {},
   "outputs": [
    {
     "name": "stdout",
     "output_type": "stream",
     "text": [
      "Checking whether there is an H2O instance running at http://localhost:54321..... not found.\n",
      "Attempting to start a local H2O server...\n",
      "; Java HotSpot(TM) 64-Bit Server VM (build 22.0.1+8-16, mixed mode, sharing)\n",
      "  Starting server from C:\\Users\\HP\\anaconda3\\Lib\\site-packages\\h2o\\backend\\bin\\h2o.jar\n",
      "  Ice root: C:\\Users\\HP\\AppData\\Local\\Temp\\tmpdezg4121\n",
      "  JVM stdout: C:\\Users\\HP\\AppData\\Local\\Temp\\tmpdezg4121\\h2o_HP_started_from_python.out\n",
      "  JVM stderr: C:\\Users\\HP\\AppData\\Local\\Temp\\tmpdezg4121\\h2o_HP_started_from_python.err\n",
      "  Server is running at http://127.0.0.1:54321\n",
      "Connecting to H2O server at http://127.0.0.1:54321 ... successful.\n",
      "Warning: Your H2O cluster version is (1 year and 5 days) old.  There may be a newer version available.\n",
      "Please download and install the latest version from: https://h2o-release.s3.amazonaws.com/h2o/latest_stable.html\n"
     ]
    },
    {
     "data": {
      "text/html": [
       "\n",
       "<style>\n",
       "\n",
       "#h2o-table-1.h2o-container {\n",
       "  overflow-x: auto;\n",
       "}\n",
       "#h2o-table-1 .h2o-table {\n",
       "  /* width: 100%; */\n",
       "  margin-top: 1em;\n",
       "  margin-bottom: 1em;\n",
       "}\n",
       "#h2o-table-1 .h2o-table caption {\n",
       "  white-space: nowrap;\n",
       "  caption-side: top;\n",
       "  text-align: left;\n",
       "  /* margin-left: 1em; */\n",
       "  margin: 0;\n",
       "  font-size: larger;\n",
       "}\n",
       "#h2o-table-1 .h2o-table thead {\n",
       "  white-space: nowrap; \n",
       "  position: sticky;\n",
       "  top: 0;\n",
       "  box-shadow: 0 -1px inset;\n",
       "}\n",
       "#h2o-table-1 .h2o-table tbody {\n",
       "  overflow: auto;\n",
       "}\n",
       "#h2o-table-1 .h2o-table th,\n",
       "#h2o-table-1 .h2o-table td {\n",
       "  text-align: right;\n",
       "  /* border: 1px solid; */\n",
       "}\n",
       "#h2o-table-1 .h2o-table tr:nth-child(even) {\n",
       "  /* background: #F5F5F5 */\n",
       "}\n",
       "\n",
       "</style>      \n",
       "<div id=\"h2o-table-1\" class=\"h2o-container\">\n",
       "  <table class=\"h2o-table\">\n",
       "    <caption></caption>\n",
       "    <thead></thead>\n",
       "    <tbody><tr><td>H2O_cluster_uptime:</td>\n",
       "<td>01 secs</td></tr>\n",
       "<tr><td>H2O_cluster_timezone:</td>\n",
       "<td>America/Lima</td></tr>\n",
       "<tr><td>H2O_data_parsing_timezone:</td>\n",
       "<td>UTC</td></tr>\n",
       "<tr><td>H2O_cluster_version:</td>\n",
       "<td>3.40.0.4</td></tr>\n",
       "<tr><td>H2O_cluster_version_age:</td>\n",
       "<td>1 year and 5 days</td></tr>\n",
       "<tr><td>H2O_cluster_name:</td>\n",
       "<td>H2O_from_python_HP_2615su</td></tr>\n",
       "<tr><td>H2O_cluster_total_nodes:</td>\n",
       "<td>1</td></tr>\n",
       "<tr><td>H2O_cluster_free_memory:</td>\n",
       "<td>5.922 Gb</td></tr>\n",
       "<tr><td>H2O_cluster_total_cores:</td>\n",
       "<td>12</td></tr>\n",
       "<tr><td>H2O_cluster_allowed_cores:</td>\n",
       "<td>12</td></tr>\n",
       "<tr><td>H2O_cluster_status:</td>\n",
       "<td>locked, healthy</td></tr>\n",
       "<tr><td>H2O_connection_url:</td>\n",
       "<td>http://127.0.0.1:54321</td></tr>\n",
       "<tr><td>H2O_connection_proxy:</td>\n",
       "<td>{\"http\": null, \"https\": null}</td></tr>\n",
       "<tr><td>H2O_internal_security:</td>\n",
       "<td>False</td></tr>\n",
       "<tr><td>Python_version:</td>\n",
       "<td>3.10.14 final</td></tr></tbody>\n",
       "  </table>\n",
       "</div>\n"
      ],
      "text/plain": [
       "--------------------------  -----------------------------\n",
       "H2O_cluster_uptime:         01 secs\n",
       "H2O_cluster_timezone:       America/Lima\n",
       "H2O_data_parsing_timezone:  UTC\n",
       "H2O_cluster_version:        3.40.0.4\n",
       "H2O_cluster_version_age:    1 year and 5 days\n",
       "H2O_cluster_name:           H2O_from_python_HP_2615su\n",
       "H2O_cluster_total_nodes:    1\n",
       "H2O_cluster_free_memory:    5.922 Gb\n",
       "H2O_cluster_total_cores:    12\n",
       "H2O_cluster_allowed_cores:  12\n",
       "H2O_cluster_status:         locked, healthy\n",
       "H2O_connection_url:         http://127.0.0.1:54321\n",
       "H2O_connection_proxy:       {\"http\": null, \"https\": null}\n",
       "H2O_internal_security:      False\n",
       "Python_version:             3.10.14 final\n",
       "--------------------------  -----------------------------"
      ]
     },
     "metadata": {},
     "output_type": "display_data"
    }
   ],
   "source": [
    "h2o.init()"
   ]
  },
  {
   "cell_type": "code",
   "execution_count": 106,
   "metadata": {},
   "outputs": [
    {
     "name": "stdout",
     "output_type": "stream",
     "text": [
      "Parse progress: |████████████████████████████████████████████████████████████████| (done) 100%\n"
     ]
    }
   ],
   "source": [
    "#Carga de datos en el cluster H2O\n",
    "data_h2o = h2o.import_file(\n",
    "                path   = \"D:/Bases/Otros/pea_peru.csv\",\n",
    "                header = 1,\n",
    "                sep    = \",\",\n",
    "                destination_frame = \"datos_h2o\"\n",
    "            )"
   ]
  },
  {
   "cell_type": "code",
   "execution_count": 107,
   "metadata": {},
   "outputs": [
    {
     "data": {
      "text/html": [
       "<table class='dataframe'>\n",
       "<thead>\n",
       "<tr><th>departamento  </th><th style=\"text-align: right;\">   X1</th><th style=\"text-align: right;\">  X2</th><th style=\"text-align: right;\">   X3</th><th style=\"text-align: right;\">   X4</th><th style=\"text-align: right;\">   X8</th><th style=\"text-align: right;\">  X18</th><th style=\"text-align: right;\">   X20</th></tr>\n",
       "</thead>\n",
       "<tbody>\n",
       "<tr><td>Amazonas      </td><td style=\"text-align: right;\">  290</td><td style=\"text-align: right;\">   1</td><td style=\"text-align: right;\"> 2571</td><td style=\"text-align: right;\"> 1737</td><td style=\"text-align: right;\"> 1623</td><td style=\"text-align: right;\">  181</td><td style=\"text-align: right;\"> 76285</td></tr>\n",
       "<tr><td>Ancash        </td><td style=\"text-align: right;\"> 9018</td><td style=\"text-align: right;\">   3</td><td style=\"text-align: right;\"> 6920</td><td style=\"text-align: right;\"> 9904</td><td style=\"text-align: right;\">15625</td><td style=\"text-align: right;\"> 4937</td><td style=\"text-align: right;\">102156</td></tr>\n",
       "<tr><td>Apurímac      </td><td style=\"text-align: right;\"> 3049</td><td style=\"text-align: right;\">   2</td><td style=\"text-align: right;\"> 1779</td><td style=\"text-align: right;\"> 1431</td><td style=\"text-align: right;\"> 1808</td><td style=\"text-align: right;\"> 2062</td><td style=\"text-align: right;\"> 54696</td></tr>\n",
       "<tr><td>Arequipa      </td><td style=\"text-align: right;\">11243</td><td style=\"text-align: right;\">   0</td><td style=\"text-align: right;\">13390</td><td style=\"text-align: right;\">17503</td><td style=\"text-align: right;\">28868</td><td style=\"text-align: right;\">18404</td><td style=\"text-align: right;\"> 76675</td></tr>\n",
       "<tr><td>Ayacucho      </td><td style=\"text-align: right;\"> 7143</td><td style=\"text-align: right;\">   2</td><td style=\"text-align: right;\"> 2639</td><td style=\"text-align: right;\"> 3134</td><td style=\"text-align: right;\"> 4166</td><td style=\"text-align: right;\"> 4963</td><td style=\"text-align: right;\"> 87986</td></tr>\n",
       "<tr><td>Cajamarca     </td><td style=\"text-align: right;\">15355</td><td style=\"text-align: right;\">   6</td><td style=\"text-align: right;\"> 9930</td><td style=\"text-align: right;\"> 7112</td><td style=\"text-align: right;\"> 7346</td><td style=\"text-align: right;\"> 6572</td><td style=\"text-align: right;\">242243</td></tr>\n",
       "<tr><td>Callao        </td><td style=\"text-align: right;\">14730</td><td style=\"text-align: right;\">  22</td><td style=\"text-align: right;\">12728</td><td style=\"text-align: right;\">18562</td><td style=\"text-align: right;\">37432</td><td style=\"text-align: right;\"> 1163</td><td style=\"text-align: right;\">  3041</td></tr>\n",
       "<tr><td>Cusco         </td><td style=\"text-align: right;\">13461</td><td style=\"text-align: right;\">   8</td><td style=\"text-align: right;\"> 7633</td><td style=\"text-align: right;\"> 9197</td><td style=\"text-align: right;\">14619</td><td style=\"text-align: right;\"> 2900</td><td style=\"text-align: right;\">157743</td></tr>\n",
       "<tr><td>Huancavelica  </td><td style=\"text-align: right;\"> 3004</td><td style=\"text-align: right;\">   2</td><td style=\"text-align: right;\">  993</td><td style=\"text-align: right;\"> 1147</td><td style=\"text-align: right;\"> 1527</td><td style=\"text-align: right;\"> 4389</td><td style=\"text-align: right;\"> 82900</td></tr>\n",
       "<tr><td>Huánuco       </td><td style=\"text-align: right;\"> 5648</td><td style=\"text-align: right;\">   2</td><td style=\"text-align: right;\"> 5174</td><td style=\"text-align: right;\"> 3719</td><td style=\"text-align: right;\"> 4339</td><td style=\"text-align: right;\"> 2040</td><td style=\"text-align: right;\">126288</td></tr>\n",
       "</tbody>\n",
       "</table><pre style='font-size: smaller; margin-bottom: 1em;'>[10 rows x 8 columns]</pre>"
      ],
      "text/plain": [
       "departamento       X1    X2     X3     X4     X8    X18     X20\n",
       "--------------  -----  ----  -----  -----  -----  -----  ------\n",
       "Amazonas          290     1   2571   1737   1623    181   76285\n",
       "Ancash           9018     3   6920   9904  15625   4937  102156\n",
       "Apurímac         3049     2   1779   1431   1808   2062   54696\n",
       "Arequipa        11243     0  13390  17503  28868  18404   76675\n",
       "Ayacucho         7143     2   2639   3134   4166   4963   87986\n",
       "Cajamarca       15355     6   9930   7112   7346   6572  242243\n",
       "Callao          14730    22  12728  18562  37432   1163    3041\n",
       "Cusco           13461     8   7633   9197  14619   2900  157743\n",
       "Huancavelica     3004     2    993   1147   1527   4389   82900\n",
       "Huánuco          5648     2   5174   3719   4339   2040  126288\n",
       "[10 rows x 8 columns]\n"
      ]
     },
     "execution_count": 107,
     "metadata": {},
     "output_type": "execute_result"
    }
   ],
   "source": [
    "data_h2o.head()"
   ]
  },
  {
   "cell_type": "code",
   "execution_count": 7,
   "metadata": {
    "scrolled": true
   },
   "outputs": [
    {
     "data": {
      "text/html": [
       "<pre style='margin: 1em 0 1em 0;'>Rows:25\n",
       "Cols:7\n",
       "</pre>"
      ],
      "text/plain": [
       "Rows:25\n",
       "Cols:7\n"
      ]
     },
     "metadata": {},
     "output_type": "display_data"
    },
    {
     "data": {
      "text/html": [
       "<table class='dataframe'>\n",
       "<thead>\n",
       "<tr><th>       </th><th>X1               </th><th>X2               </th><th>X3                </th><th>X4                </th><th>X8               </th><th>X18              </th><th>X20               </th></tr>\n",
       "</thead>\n",
       "<tbody>\n",
       "<tr><td>type   </td><td>int              </td><td>int              </td><td>int               </td><td>int               </td><td>int              </td><td>int              </td><td>int               </td></tr>\n",
       "<tr><td>mins   </td><td>290.0            </td><td>0.0              </td><td>985.0             </td><td>1147.0            </td><td>1382.0           </td><td>85.0             </td><td>3041.0            </td></tr>\n",
       "<tr><td>mean   </td><td>13830.32         </td><td>22.68            </td><td>12738.200000000003</td><td>13409.999999999998</td><td>24667.48         </td><td>5348.24          </td><td>93699.72000000002 </td></tr>\n",
       "<tr><td>maxs   </td><td>152282.0         </td><td>457.0            </td><td>161532.0          </td><td>171936.0          </td><td>358287.0         </td><td>21132.0          </td><td>242243.0          </td></tr>\n",
       "<tr><td>sigma  </td><td>29203.17596272707</td><td>90.63880699420824</td><td>31354.061210896856</td><td>33455.14074971638 </td><td>70179.65753283972</td><td>5836.350152849524</td><td>64864.084530989356</td></tr>\n",
       "<tr><td>zeros  </td><td>0                </td><td>4                </td><td>0                 </td><td>0                 </td><td>0                </td><td>0                </td><td>0                 </td></tr>\n",
       "<tr><td>missing</td><td>0                </td><td>0                </td><td>0                 </td><td>0                 </td><td>0                </td><td>0                </td><td>0                 </td></tr>\n",
       "<tr><td>0      </td><td>290.0            </td><td>1.0              </td><td>2571.0            </td><td>1737.0            </td><td>1623.0           </td><td>181.0            </td><td>76285.0           </td></tr>\n",
       "<tr><td>1      </td><td>9018.0           </td><td>3.0              </td><td>6920.0            </td><td>9904.0            </td><td>15625.0          </td><td>4937.0           </td><td>102156.0          </td></tr>\n",
       "<tr><td>2      </td><td>3049.0           </td><td>2.0              </td><td>1779.0            </td><td>1431.0            </td><td>1808.0           </td><td>2062.0           </td><td>54696.0           </td></tr>\n",
       "<tr><td>3      </td><td>11243.0          </td><td>0.0              </td><td>13390.0           </td><td>17503.0           </td><td>28868.0          </td><td>18404.0          </td><td>76675.0           </td></tr>\n",
       "<tr><td>4      </td><td>7143.0           </td><td>2.0              </td><td>2639.0            </td><td>3134.0            </td><td>4166.0           </td><td>4963.0           </td><td>87986.0           </td></tr>\n",
       "<tr><td>5      </td><td>15355.0          </td><td>6.0              </td><td>9930.0            </td><td>7112.0            </td><td>7346.0           </td><td>6572.0           </td><td>242243.0          </td></tr>\n",
       "<tr><td>6      </td><td>14730.0          </td><td>22.0             </td><td>12728.0           </td><td>18562.0           </td><td>37432.0          </td><td>1163.0           </td><td>3041.0            </td></tr>\n",
       "<tr><td>7      </td><td>13461.0          </td><td>8.0              </td><td>7633.0            </td><td>9197.0            </td><td>14619.0          </td><td>2900.0           </td><td>157743.0          </td></tr>\n",
       "<tr><td>8      </td><td>3004.0           </td><td>2.0              </td><td>993.0             </td><td>1147.0            </td><td>1527.0           </td><td>4389.0           </td><td>82900.0           </td></tr>\n",
       "<tr><td>9      </td><td>5648.0           </td><td>2.0              </td><td>5174.0            </td><td>3719.0            </td><td>4339.0           </td><td>2040.0           </td><td>126288.0          </td></tr>\n",
       "</tbody>\n",
       "</table><pre style='font-size: smaller; margin-bottom: 1em;'>[25 rows x 7 columns]</pre>"
      ],
      "text/plain": [
       "         X1                 X2                 X3                  X4                  X8                 X18                X20\n",
       "-------  -----------------  -----------------  ------------------  ------------------  -----------------  -----------------  ------------------\n",
       "type     int                int                int                 int                 int                int                int\n",
       "mins     290.0              0.0                985.0               1147.0              1382.0             85.0               3041.0\n",
       "mean     13830.32           22.68              12738.200000000003  13409.999999999998  24667.48           5348.24            93699.72000000002\n",
       "maxs     152282.0           457.0              161532.0            171936.0            358287.0           21132.0            242243.0\n",
       "sigma    29203.17596272707  90.63880699420824  31354.061210896856  33455.14074971638   70179.65753283972  5836.350152849524  64864.084530989356\n",
       "zeros    0                  4                  0                   0                   0                  0                  0\n",
       "missing  0                  0                  0                   0                   0                  0                  0\n",
       "0        290.0              1.0                2571.0              1737.0              1623.0             181.0              76285.0\n",
       "1        9018.0             3.0                6920.0              9904.0              15625.0            4937.0             102156.0\n",
       "2        3049.0             2.0                1779.0              1431.0              1808.0             2062.0             54696.0\n",
       "3        11243.0            0.0                13390.0             17503.0             28868.0            18404.0            76675.0\n",
       "4        7143.0             2.0                2639.0              3134.0              4166.0             4963.0             87986.0\n",
       "5        15355.0            6.0                9930.0              7112.0              7346.0             6572.0             242243.0\n",
       "6        14730.0            22.0               12728.0             18562.0             37432.0            1163.0             3041.0\n",
       "7        13461.0            8.0                7633.0              9197.0              14619.0            2900.0             157743.0\n",
       "8        3004.0             2.0                993.0               1147.0              1527.0             4389.0             82900.0\n",
       "9        5648.0             2.0                5174.0              3719.0              4339.0             2040.0             126288.0\n",
       "[25 rows x 7 columns]\n"
      ]
     },
     "metadata": {},
     "output_type": "display_data"
    }
   ],
   "source": [
    "data_h2o[:, ['X1','X2','X3','X4','X8','X18','X20']].describe()"
   ]
  },
  {
   "cell_type": "code",
   "execution_count": 46,
   "metadata": {},
   "outputs": [],
   "source": [
    "#data_h2o[:, ['X1','X2','X3','X4','X8','X18','X20']].apply(lambda x: x.mean(), axis=0)"
   ]
  },
  {
   "cell_type": "code",
   "execution_count": 47,
   "metadata": {},
   "outputs": [],
   "source": [
    "#data_h2o[:, ['X1','X2','X3','X4','X8','X18','X20']].apply(lambda x: x.sd(), axis=0)"
   ]
  },
  {
   "cell_type": "code",
   "execution_count": 54,
   "metadata": {},
   "outputs": [
    {
     "name": "stdout",
     "output_type": "stream",
     "text": [
      "Parse progress: |████████████████████████████████████████████████████████████████| (done) 100%\n",
      "Parse progress: |████████████████████████████████████████████████████████████████| (done) 100%\n",
      "Parse progress: |████████████████████████████████████████████████████████████████| (done) 100%\n"
     ]
    },
    {
     "data": {
      "text/html": [
       "<table class='dataframe'>\n",
       "<thead>\n",
       "<tr><th>Variables  </th><th style=\"text-align: right;\">   Media</th><th style=\"text-align: right;\">  Desviacion_Estandar</th></tr>\n",
       "</thead>\n",
       "<tbody>\n",
       "<tr><td>X1         </td><td style=\"text-align: right;\">13830.3 </td><td style=\"text-align: right;\">           29203.2   </td></tr>\n",
       "<tr><td>X2         </td><td style=\"text-align: right;\">   22.68</td><td style=\"text-align: right;\">              90.6388</td></tr>\n",
       "<tr><td>X3         </td><td style=\"text-align: right;\">12738.2 </td><td style=\"text-align: right;\">           31354.1   </td></tr>\n",
       "<tr><td>X4         </td><td style=\"text-align: right;\">13410   </td><td style=\"text-align: right;\">           33455.1   </td></tr>\n",
       "<tr><td>X8         </td><td style=\"text-align: right;\">24667.5 </td><td style=\"text-align: right;\">           70179.7   </td></tr>\n",
       "<tr><td>X18        </td><td style=\"text-align: right;\"> 5348.24</td><td style=\"text-align: right;\">            5836.35  </td></tr>\n",
       "<tr><td>X20        </td><td style=\"text-align: right;\">93699.7 </td><td style=\"text-align: right;\">           64864.1   </td></tr>\n",
       "</tbody>\n",
       "</table><pre style='font-size: smaller; margin-bottom: 1em;'>[7 rows x 3 columns]</pre>"
      ],
      "text/plain": [
       "Variables       Media    Desviacion_Estandar\n",
       "-----------  --------  ---------------------\n",
       "X1           13830.3              29203.2\n",
       "X2              22.68                90.6388\n",
       "X3           12738.2              31354.1\n",
       "X4           13410                33455.1\n",
       "X8           24667.5              70179.7\n",
       "X18           5348.24              5836.35\n",
       "X20          93699.7              64864.1\n",
       "[7 rows x 3 columns]\n"
      ]
     },
     "execution_count": 54,
     "metadata": {},
     "output_type": "execute_result"
    }
   ],
   "source": [
    "Variables = h2o.H2OFrame(['X1','X2','X3','X4','X8','X18','X20'])\n",
    "Variables.set_names(['Variables'])\n",
    "\n",
    "Media = h2o.H2OFrame(data_h2o[:, ['X1','X2','X3','X4','X8','X18','X20']].mean())\n",
    "Media.set_names(['Media'])\n",
    "\n",
    "Desviacion_Estandar = h2o.H2OFrame(data_h2o[:, ['X1','X2','X3','X4','X8','X18','X20']].sd())\n",
    "Desviacion_Estandar.set_names(['Desviacion_Estandar'])\n",
    "\n",
    "Indicadores = Variables[:, ['Variables']].cbind(Media[:, ['Media']])\n",
    "Indicadores = Indicadores.cbind(Desviacion_Estandar[:, ['Desviacion_Estandar']])\n",
    "Indicadores"
   ]
  },
  {
   "attachments": {},
   "cell_type": "markdown",
   "metadata": {},
   "source": [
    "Se deben de estandarizar las variables para que tengan media cero y desviación estándar uno antes de aplicar Análisis de Componentes Principales, pues las variables X8 y X20 tienen una media y dispersión muy superior al resto. Esta estandarización evita que las variables X8 y X20 dominen la mayoría de las componentes principales."
   ]
  },
  {
   "cell_type": "code",
   "execution_count": null,
   "metadata": {},
   "outputs": [],
   "source": [
    "#Prueba de normalidad\n",
    "#Ho: la variable se aproxima a una distribución normal\n",
    "#Ha: la variable no se aproxima a una distribución normal"
   ]
  },
  {
   "cell_type": "code",
   "execution_count": 68,
   "metadata": {},
   "outputs": [
    {
     "data": {
      "image/png": "[encoded data removed]",
      "text/plain": [
       "<Figure size 640x480 with 1 Axes>"
      ]
     },
     "metadata": {},
     "output_type": "display_data"
    },
    {
     "data": {
      "image/png": "[encoded data removed]",
      "text/plain": [
       "<Figure size 640x480 with 1 Axes>"
      ]
     },
     "metadata": {},
     "output_type": "display_data"
    },
    {
     "data": {
      "image/png": "[encoded data removed]",
      "text/plain": [
       "<Figure size 640x480 with 1 Axes>"
      ]
     },
     "metadata": {},
     "output_type": "display_data"
    },
    {
     "data": {
      "image/png": "[encoded data removed]",
      "text/plain": [
       "<Figure size 640x480 with 1 Axes>"
      ]
     },
     "metadata": {},
     "output_type": "display_data"
    },
    {
     "data": {
      "image/png": "[encoded data removed]",
      "text/plain": [
       "<Figure size 640x480 with 1 Axes>"
      ]
     },
     "metadata": {},
     "output_type": "display_data"
    },
    {
     "data": {
      "image/png": "[encoded data removed]",
      "text/plain": [
       "<Figure size 640x480 with 1 Axes>"
      ]
     },
     "metadata": {},
     "output_type": "display_data"
    },
    {
     "data": {
      "image/png": "[encoded data removed]",
      "text/plain": [
       "<Figure size 640x480 with 1 Axes>"
      ]
     },
     "metadata": {},
     "output_type": "display_data"
    }
   ],
   "source": [
    "for col in data_h2o[:, ['X1','X2','X3','X4','X8','X18','X20']].columns:\n",
    "    data_h2o[:, ['X1','X2','X3','X4','X8','X18','X20']][col].hist()"
   ]
  },
  {
   "cell_type": "code",
   "execution_count": 76,
   "metadata": {},
   "outputs": [],
   "source": [
    "#Tarea\n",
    "#Realizar las pruebas de normalidad para cada una de las variables."
   ]
  },
  {
   "cell_type": "code",
   "execution_count": 56,
   "metadata": {},
   "outputs": [],
   "source": [
    "import matplotlib.pyplot as plt"
   ]
  },
  {
   "cell_type": "code",
   "execution_count": 59,
   "metadata": {},
   "outputs": [
    {
     "data": {
      "image/png": "[encoded data removed]",
      "text/plain": [
       "<Figure size 500x500 with 2 Axes>"
      ]
     },
     "metadata": {},
     "output_type": "display_data"
    }
   ],
   "source": [
    "plt.figure(figsize=(5,5))\n",
    "corr = data_h2o[:, ['X1','X2','X3','X4','X8','X18','X20']].cor(method='Spearman').as_data_frame()\n",
    "corr.index = data_h2o[:, ['X1','X2','X3','X4','X8','X18','X20']].columns\n",
    "sns.heatmap(corr, annot = True, cmap='RdYlGn', vmin=-1, vmax=1)\n",
    "plt.title(\"Heatmap\", fontsize=16)\n",
    "plt.show()"
   ]
  },
  {
   "cell_type": "code",
   "execution_count": 55,
   "metadata": {},
   "outputs": [
    {
     "data": {
      "text/html": [
       "<table class='dataframe'>\n",
       "<thead>\n",
       "<tr><th style=\"text-align: right;\">      X1</th><th style=\"text-align: right;\">        X2</th><th style=\"text-align: right;\">      X3</th><th style=\"text-align: right;\">      X4</th><th style=\"text-align: right;\">      X8</th><th style=\"text-align: right;\">       X18</th><th style=\"text-align: right;\">     X20</th></tr>\n",
       "</thead>\n",
       "<tbody>\n",
       "<tr><td style=\"text-align: right;\">1       </td><td style=\"text-align: right;\"> 0.544033 </td><td style=\"text-align: right;\">0.912308</td><td style=\"text-align: right;\">0.885385</td><td style=\"text-align: right;\">0.858462</td><td style=\"text-align: right;\"> 0.374615 </td><td style=\"text-align: right;\">0.600769</td></tr>\n",
       "<tr><td style=\"text-align: right;\">0.544033</td><td style=\"text-align: right;\"> 1        </td><td style=\"text-align: right;\">0.475231</td><td style=\"text-align: right;\">0.444731</td><td style=\"text-align: right;\">0.485162</td><td style=\"text-align: right;\">-0.0205697</td><td style=\"text-align: right;\">0.256767</td></tr>\n",
       "<tr><td style=\"text-align: right;\">0.912308</td><td style=\"text-align: right;\"> 0.475231 </td><td style=\"text-align: right;\">1       </td><td style=\"text-align: right;\">0.94    </td><td style=\"text-align: right;\">0.893077</td><td style=\"text-align: right;\"> 0.228462 </td><td style=\"text-align: right;\">0.536154</td></tr>\n",
       "<tr><td style=\"text-align: right;\">0.885385</td><td style=\"text-align: right;\"> 0.444731 </td><td style=\"text-align: right;\">0.94    </td><td style=\"text-align: right;\">1       </td><td style=\"text-align: right;\">0.963077</td><td style=\"text-align: right;\"> 0.321538 </td><td style=\"text-align: right;\">0.428462</td></tr>\n",
       "<tr><td style=\"text-align: right;\">0.858462</td><td style=\"text-align: right;\"> 0.485162 </td><td style=\"text-align: right;\">0.893077</td><td style=\"text-align: right;\">0.963077</td><td style=\"text-align: right;\">1       </td><td style=\"text-align: right;\"> 0.363846 </td><td style=\"text-align: right;\">0.391538</td></tr>\n",
       "<tr><td style=\"text-align: right;\">0.374615</td><td style=\"text-align: right;\">-0.0205697</td><td style=\"text-align: right;\">0.228462</td><td style=\"text-align: right;\">0.321538</td><td style=\"text-align: right;\">0.363846</td><td style=\"text-align: right;\"> 1        </td><td style=\"text-align: right;\">0.391538</td></tr>\n",
       "<tr><td style=\"text-align: right;\">0.600769</td><td style=\"text-align: right;\"> 0.256767 </td><td style=\"text-align: right;\">0.536154</td><td style=\"text-align: right;\">0.428462</td><td style=\"text-align: right;\">0.391538</td><td style=\"text-align: right;\"> 0.391538 </td><td style=\"text-align: right;\">1       </td></tr>\n",
       "</tbody>\n",
       "</table><pre style='font-size: smaller; margin-bottom: 1em;'>[7 rows x 7 columns]</pre>"
      ],
      "text/plain": [
       "      X1          X2        X3        X4        X8         X18       X20\n",
       "--------  ----------  --------  --------  --------  ----------  --------\n",
       "1          0.544033   0.912308  0.885385  0.858462   0.374615   0.600769\n",
       "0.544033   1          0.475231  0.444731  0.485162  -0.0205697  0.256767\n",
       "0.912308   0.475231   1         0.94      0.893077   0.228462   0.536154\n",
       "0.885385   0.444731   0.94      1         0.963077   0.321538   0.428462\n",
       "0.858462   0.485162   0.893077  0.963077  1          0.363846   0.391538\n",
       "0.374615  -0.0205697  0.228462  0.321538  0.363846   1          0.391538\n",
       "0.600769   0.256767   0.536154  0.428462  0.391538   0.391538   1\n",
       "[7 rows x 7 columns]\n"
      ]
     },
     "execution_count": 55,
     "metadata": {},
     "output_type": "execute_result"
    }
   ],
   "source": [
    "data_h2o_cor = data_h2o[:, ['X1','X2','X3','X4','X8','X18','X20']].cor(method='Spearman')\n",
    "data_h2o_cor.set_names(['X1','X2','X3','X4','X8','X18','X20'])"
   ]
  },
  {
   "cell_type": "code",
   "execution_count": 15,
   "metadata": {},
   "outputs": [],
   "source": [
    "#Prueba de Correlación\n",
    "#Ho: no existe correlación entre las variables\n",
    "#Ha: existe correlación entre las variables"
   ]
  },
  {
   "cell_type": "code",
   "execution_count": null,
   "metadata": {},
   "outputs": [],
   "source": [
    "#Tarea\n",
    "#Realizar las pruebas de correlación para las variables."
   ]
  },
  {
   "cell_type": "code",
   "execution_count": 85,
   "metadata": {
    "scrolled": true
   },
   "outputs": [],
   "source": [
    "#Prueba de esferecidad de Barlett\n",
    "#Ho: Las variables no están correlacionadas\n",
    "#Ha: Las variables están correlacionadas"
   ]
  },
  {
   "cell_type": "code",
   "execution_count": 86,
   "metadata": {},
   "outputs": [],
   "source": [
    "import scipy.stats as ss"
   ]
  },
  {
   "cell_type": "code",
   "execution_count": 89,
   "metadata": {},
   "outputs": [
    {
     "data": {
      "text/plain": [
       "BartlettResult(statistic=array([377.17557216]), pvalue=array([2.24888863e-78]))"
      ]
     },
     "execution_count": 89,
     "metadata": {},
     "output_type": "execute_result"
    }
   ],
   "source": [
    "ss.bartlett(h2o.as_list(data_h2o['X1']),\n",
    "            h2o.as_list(data_h2o['X2']),\n",
    "            h2o.as_list(data_h2o['X3']),\n",
    "            h2o.as_list(data_h2o['X4']),\n",
    "            h2o.as_list(data_h2o['X8']),\n",
    "            h2o.as_list(data_h2o['X18']),\n",
    "            h2o.as_list(data_h2o['X20']))"
   ]
  },
  {
   "cell_type": "markdown",
   "metadata": {},
   "source": [
    "### Preparación de los datos "
   ]
  },
  {
   "cell_type": "code",
   "execution_count": 90,
   "metadata": {},
   "outputs": [
    {
     "data": {
      "text/html": [
       "<table class='dataframe'>\n",
       "<thead>\n",
       "<tr><th>﻿departamento  </th><th style=\"text-align: right;\">   X1</th><th style=\"text-align: right;\">  X2</th><th style=\"text-align: right;\">   X3</th><th style=\"text-align: right;\">   X4</th><th style=\"text-align: right;\">   X8</th><th style=\"text-align: right;\">  X18</th><th style=\"text-align: right;\">   X20</th></tr>\n",
       "</thead>\n",
       "<tbody>\n",
       "<tr><td>Amazonas       </td><td style=\"text-align: right;\">  290</td><td style=\"text-align: right;\">   1</td><td style=\"text-align: right;\"> 2571</td><td style=\"text-align: right;\"> 1737</td><td style=\"text-align: right;\"> 1623</td><td style=\"text-align: right;\">  181</td><td style=\"text-align: right;\"> 76285</td></tr>\n",
       "<tr><td>Ancash         </td><td style=\"text-align: right;\"> 9018</td><td style=\"text-align: right;\">   3</td><td style=\"text-align: right;\"> 6920</td><td style=\"text-align: right;\"> 9904</td><td style=\"text-align: right;\">15625</td><td style=\"text-align: right;\"> 4937</td><td style=\"text-align: right;\">102156</td></tr>\n",
       "<tr><td>Apurímac       </td><td style=\"text-align: right;\"> 3049</td><td style=\"text-align: right;\">   2</td><td style=\"text-align: right;\"> 1779</td><td style=\"text-align: right;\"> 1431</td><td style=\"text-align: right;\"> 1808</td><td style=\"text-align: right;\"> 2062</td><td style=\"text-align: right;\"> 54696</td></tr>\n",
       "<tr><td>Arequipa       </td><td style=\"text-align: right;\">11243</td><td style=\"text-align: right;\">   0</td><td style=\"text-align: right;\">13390</td><td style=\"text-align: right;\">17503</td><td style=\"text-align: right;\">28868</td><td style=\"text-align: right;\">18404</td><td style=\"text-align: right;\"> 76675</td></tr>\n",
       "<tr><td>Ayacucho       </td><td style=\"text-align: right;\"> 7143</td><td style=\"text-align: right;\">   2</td><td style=\"text-align: right;\"> 2639</td><td style=\"text-align: right;\"> 3134</td><td style=\"text-align: right;\"> 4166</td><td style=\"text-align: right;\"> 4963</td><td style=\"text-align: right;\"> 87986</td></tr>\n",
       "<tr><td>Cajamarca      </td><td style=\"text-align: right;\">15355</td><td style=\"text-align: right;\">   6</td><td style=\"text-align: right;\"> 9930</td><td style=\"text-align: right;\"> 7112</td><td style=\"text-align: right;\"> 7346</td><td style=\"text-align: right;\"> 6572</td><td style=\"text-align: right;\">242243</td></tr>\n",
       "<tr><td>Callao         </td><td style=\"text-align: right;\">14730</td><td style=\"text-align: right;\">  22</td><td style=\"text-align: right;\">12728</td><td style=\"text-align: right;\">18562</td><td style=\"text-align: right;\">37432</td><td style=\"text-align: right;\"> 1163</td><td style=\"text-align: right;\">  3041</td></tr>\n",
       "<tr><td>Cusco          </td><td style=\"text-align: right;\">13461</td><td style=\"text-align: right;\">   8</td><td style=\"text-align: right;\"> 7633</td><td style=\"text-align: right;\"> 9197</td><td style=\"text-align: right;\">14619</td><td style=\"text-align: right;\"> 2900</td><td style=\"text-align: right;\">157743</td></tr>\n",
       "<tr><td>Huancavelica   </td><td style=\"text-align: right;\"> 3004</td><td style=\"text-align: right;\">   2</td><td style=\"text-align: right;\">  993</td><td style=\"text-align: right;\"> 1147</td><td style=\"text-align: right;\"> 1527</td><td style=\"text-align: right;\"> 4389</td><td style=\"text-align: right;\"> 82900</td></tr>\n",
       "<tr><td>Huánuco        </td><td style=\"text-align: right;\"> 5648</td><td style=\"text-align: right;\">   2</td><td style=\"text-align: right;\"> 5174</td><td style=\"text-align: right;\"> 3719</td><td style=\"text-align: right;\"> 4339</td><td style=\"text-align: right;\"> 2040</td><td style=\"text-align: right;\">126288</td></tr>\n",
       "</tbody>\n",
       "</table><pre style='font-size: smaller; margin-bottom: 1em;'>[10 rows x 8 columns]</pre>"
      ],
      "text/plain": [
       "departamento       X1    X2     X3     X4     X8    X18     X20\n",
       "---------------  -----  ----  -----  -----  -----  -----  ------\n",
       "Amazonas           290     1   2571   1737   1623    181   76285\n",
       "Ancash            9018     3   6920   9904  15625   4937  102156\n",
       "Apurímac          3049     2   1779   1431   1808   2062   54696\n",
       "Arequipa         11243     0  13390  17503  28868  18404   76675\n",
       "Ayacucho          7143     2   2639   3134   4166   4963   87986\n",
       "Cajamarca        15355     6   9930   7112   7346   6572  242243\n",
       "Callao           14730    22  12728  18562  37432   1163    3041\n",
       "Cusco            13461     8   7633   9197  14619   2900  157743\n",
       "Huancavelica      3004     2    993   1147   1527   4389   82900\n",
       "Huánuco           5648     2   5174   3719   4339   2040  126288\n",
       "[10 rows x 8 columns]\n"
      ]
     },
     "execution_count": 90,
     "metadata": {},
     "output_type": "execute_result"
    }
   ],
   "source": [
    "data_h2o.head()"
   ]
  },
  {
   "cell_type": "code",
   "execution_count": 91,
   "metadata": {},
   "outputs": [],
   "source": [
    "data_h2o_scaled = data_h2o.scale(center=True, scale=True)"
   ]
  },
  {
   "cell_type": "code",
   "execution_count": 92,
   "metadata": {},
   "outputs": [
    {
     "data": {
      "text/html": [
       "<table class='dataframe'>\n",
       "<thead>\n",
       "<tr><th>﻿departamento  </th><th style=\"text-align: right;\">        X1</th><th style=\"text-align: right;\">         X2</th><th style=\"text-align: right;\">          X3</th><th style=\"text-align: right;\">       X4</th><th style=\"text-align: right;\">        X8</th><th style=\"text-align: right;\">       X18</th><th style=\"text-align: right;\">       X20</th></tr>\n",
       "</thead>\n",
       "<tbody>\n",
       "<tr><td>Amazonas       </td><td style=\"text-align: right;\">-0.463659 </td><td style=\"text-align: right;\">-0.239191  </td><td style=\"text-align: right;\">-0.324271   </td><td style=\"text-align: right;\">-0.348915</td><td style=\"text-align: right;\">-0.328364 </td><td style=\"text-align: right;\">-0.885355 </td><td style=\"text-align: right;\">-0.26848  </td></tr>\n",
       "<tr><td>Ancash         </td><td style=\"text-align: right;\">-0.164788 </td><td style=\"text-align: right;\">-0.217126  </td><td style=\"text-align: right;\">-0.185564   </td><td style=\"text-align: right;\">-0.104797</td><td style=\"text-align: right;\">-0.128848 </td><td style=\"text-align: right;\">-0.0704618</td><td style=\"text-align: right;\"> 0.130369 </td></tr>\n",
       "<tr><td>Apurímac       </td><td style=\"text-align: right;\">-0.369183 </td><td style=\"text-align: right;\">-0.228158  </td><td style=\"text-align: right;\">-0.34953    </td><td style=\"text-align: right;\">-0.358062</td><td style=\"text-align: right;\">-0.325728 </td><td style=\"text-align: right;\">-0.563064 </td><td style=\"text-align: right;\">-0.601315 </td></tr>\n",
       "<tr><td>Arequipa       </td><td style=\"text-align: right;\">-0.0885972</td><td style=\"text-align: right;\">-0.250224  </td><td style=\"text-align: right;\"> 0.0207884  </td><td style=\"text-align: right;\"> 0.122343</td><td style=\"text-align: right;\"> 0.0598538</td><td style=\"text-align: right;\"> 2.23697  </td><td style=\"text-align: right;\">-0.262468 </td></tr>\n",
       "<tr><td>Ayacucho       </td><td style=\"text-align: right;\">-0.228993 </td><td style=\"text-align: right;\">-0.228158  </td><td style=\"text-align: right;\">-0.322102   </td><td style=\"text-align: right;\">-0.307158</td><td style=\"text-align: right;\">-0.292129 </td><td style=\"text-align: right;\">-0.066007 </td><td style=\"text-align: right;\">-0.0880876</td></tr>\n",
       "<tr><td>Cajamarca      </td><td style=\"text-align: right;\"> 0.0522094</td><td style=\"text-align: right;\">-0.184027  </td><td style=\"text-align: right;\">-0.0895642  </td><td style=\"text-align: right;\">-0.188252</td><td style=\"text-align: right;\">-0.246816 </td><td style=\"text-align: right;\"> 0.209679 </td><td style=\"text-align: right;\"> 2.29007  </td></tr>\n",
       "<tr><td>Callao         </td><td style=\"text-align: right;\"> 0.0308076</td><td style=\"text-align: right;\">-0.00750231</td><td style=\"text-align: right;\">-0.000325317</td><td style=\"text-align: right;\"> 0.153997</td><td style=\"text-align: right;\"> 0.181883 </td><td style=\"text-align: right;\">-0.717099 </td><td style=\"text-align: right;\">-1.39767  </td></tr>\n",
       "<tr><td>Cusco          </td><td style=\"text-align: right;\">-0.0126466</td><td style=\"text-align: right;\">-0.161962  </td><td style=\"text-align: right;\">-0.162824   </td><td style=\"text-align: right;\">-0.12593 </td><td style=\"text-align: right;\">-0.143182 </td><td style=\"text-align: right;\">-0.419481 </td><td style=\"text-align: right;\"> 0.987346 </td></tr>\n",
       "<tr><td>Huancavelica   </td><td style=\"text-align: right;\">-0.370724 </td><td style=\"text-align: right;\">-0.228158  </td><td style=\"text-align: right;\">-0.374599   </td><td style=\"text-align: right;\">-0.366551</td><td style=\"text-align: right;\">-0.329732 </td><td style=\"text-align: right;\">-0.164356 </td><td style=\"text-align: right;\">-0.166498 </td></tr>\n",
       "<tr><td>Huánuco        </td><td style=\"text-align: right;\">-0.280186 </td><td style=\"text-align: right;\">-0.228158  </td><td style=\"text-align: right;\">-0.241251   </td><td style=\"text-align: right;\">-0.289671</td><td style=\"text-align: right;\">-0.289663 </td><td style=\"text-align: right;\">-0.566834 </td><td style=\"text-align: right;\"> 0.502409 </td></tr>\n",
       "</tbody>\n",
       "</table><pre style='font-size: smaller; margin-bottom: 1em;'>[10 rows x 8 columns]</pre>"
      ],
      "text/plain": [
       "departamento            X1           X2            X3         X4          X8         X18         X20\n",
       "---------------  ----------  -----------  ------------  ---------  ----------  ----------  ----------\n",
       "Amazonas         -0.463659   -0.239191    -0.324271     -0.348915  -0.328364   -0.885355   -0.26848\n",
       "Ancash           -0.164788   -0.217126    -0.185564     -0.104797  -0.128848   -0.0704618   0.130369\n",
       "Apurímac         -0.369183   -0.228158    -0.34953      -0.358062  -0.325728   -0.563064   -0.601315\n",
       "Arequipa         -0.0885972  -0.250224     0.0207884     0.122343   0.0598538   2.23697    -0.262468\n",
       "Ayacucho         -0.228993   -0.228158    -0.322102     -0.307158  -0.292129   -0.066007   -0.0880876\n",
       "Cajamarca         0.0522094  -0.184027    -0.0895642    -0.188252  -0.246816    0.209679    2.29007\n",
       "Callao            0.0308076  -0.00750231  -0.000325317   0.153997   0.181883   -0.717099   -1.39767\n",
       "Cusco            -0.0126466  -0.161962    -0.162824     -0.12593   -0.143182   -0.419481    0.987346\n",
       "Huancavelica     -0.370724   -0.228158    -0.374599     -0.366551  -0.329732   -0.164356   -0.166498\n",
       "Huánuco          -0.280186   -0.228158    -0.241251     -0.289671  -0.289663   -0.566834    0.502409\n",
       "[10 rows x 8 columns]\n"
      ]
     },
     "execution_count": 92,
     "metadata": {},
     "output_type": "execute_result"
    }
   ],
   "source": [
    "data_h2o_scaled.head()"
   ]
  },
  {
   "cell_type": "markdown",
   "metadata": {},
   "source": [
    "### Modelado"
   ]
  },
  {
   "cell_type": "code",
   "execution_count": 93,
   "metadata": {},
   "outputs": [],
   "source": [
    "from h2o.estimators import H2OPrincipalComponentAnalysisEstimator"
   ]
  },
  {
   "cell_type": "code",
   "execution_count": 94,
   "metadata": {},
   "outputs": [],
   "source": [
    "pea_pca = H2OPrincipalComponentAnalysisEstimator(k = 7,\n",
    "                                                 use_all_factor_levels = True,\n",
    "                                                 pca_method = \"glrm\",\n",
    "                                                 transform = \"standardize\",\n",
    "                                                 impute_missing = True)"
   ]
  },
  {
   "cell_type": "code",
   "execution_count": 95,
   "metadata": {
    "scrolled": true
   },
   "outputs": [
    {
     "name": "stdout",
     "output_type": "stream",
     "text": [
      "pca Model Build progress: |██████████████████████████████████████████████████████| (done) 100%\n"
     ]
    },
    {
     "data": {
      "text/html": [
       "<pre style='margin: 1em 0 1em 0;'>Model Details\n",
       "=============\n",
       "H2OPrincipalComponentAnalysisEstimator : Principal Components Analysis\n",
       "Model Key: PCA_model_python_1714834838149_1\n",
       "</pre>\n",
       "<div style='margin: 1em 0 1em 0;'>\n",
       "<style>\n",
       "\n",
       "#h2o-table-10.h2o-container {\n",
       "  overflow-x: auto;\n",
       "}\n",
       "#h2o-table-10 .h2o-table {\n",
       "  /* width: 100%; */\n",
       "  margin-top: 1em;\n",
       "  margin-bottom: 1em;\n",
       "}\n",
       "#h2o-table-10 .h2o-table caption {\n",
       "  white-space: nowrap;\n",
       "  caption-side: top;\n",
       "  text-align: left;\n",
       "  /* margin-left: 1em; */\n",
       "  margin: 0;\n",
       "  font-size: larger;\n",
       "}\n",
       "#h2o-table-10 .h2o-table thead {\n",
       "  white-space: nowrap; \n",
       "  position: sticky;\n",
       "  top: 0;\n",
       "  box-shadow: 0 -1px inset;\n",
       "}\n",
       "#h2o-table-10 .h2o-table tbody {\n",
       "  overflow: auto;\n",
       "}\n",
       "#h2o-table-10 .h2o-table th,\n",
       "#h2o-table-10 .h2o-table td {\n",
       "  text-align: right;\n",
       "  /* border: 1px solid; */\n",
       "}\n",
       "#h2o-table-10 .h2o-table tr:nth-child(even) {\n",
       "  /* background: #F5F5F5 */\n",
       "}\n",
       "\n",
       "</style>      \n",
       "<div id=\"h2o-table-10\" class=\"h2o-container\">\n",
       "  <table class=\"h2o-table\">\n",
       "    <caption>Importance of components: </caption>\n",
       "    <thead><tr><th></th>\n",
       "<th>pc1</th>\n",
       "<th>pc2</th>\n",
       "<th>pc3</th>\n",
       "<th>pc4</th>\n",
       "<th>pc5</th>\n",
       "<th>pc6</th>\n",
       "<th>pc7</th></tr></thead>\n",
       "    <tbody><tr><td>Standard deviation</td>\n",
       "<td>2.3303913</td>\n",
       "<td>1.0387751</td>\n",
       "<td>0.6879544</td>\n",
       "<td>0.1089898</td>\n",
       "<td>0.0509650</td>\n",
       "<td>0.0476327</td>\n",
       "<td>0.0140119</td></tr>\n",
       "<tr><td>Proportion of Variance</td>\n",
       "<td>0.7758177</td>\n",
       "<td>0.1541505</td>\n",
       "<td>0.0676116</td>\n",
       "<td>0.0016970</td>\n",
       "<td>0.0003711</td>\n",
       "<td>0.0003241</td>\n",
       "<td>0.0000280</td></tr>\n",
       "<tr><td>Cumulative Proportion</td>\n",
       "<td>0.7758177</td>\n",
       "<td>0.9299682</td>\n",
       "<td>0.9975798</td>\n",
       "<td>0.9992768</td>\n",
       "<td>0.9996478</td>\n",
       "<td>0.9999720</td>\n",
       "<td>1.0</td></tr></tbody>\n",
       "  </table>\n",
       "</div>\n",
       "</div>\n",
       "<div style='margin: 1em 0 1em 0;'><pre style='margin: 1em 0 1em 0;'>ModelMetricsPCA: pca\n",
       "** Reported on train data. **\n",
       "\n",
       "MSE: NaN\n",
       "RMSE: NaN\n",
       "Sum of Squared Error (Numeric): None\n",
       "Misclassification Error (Categorical): None</pre></div>\n",
       "<div style='margin: 1em 0 1em 0;'>\n",
       "<style>\n",
       "\n",
       "#h2o-table-11.h2o-container {\n",
       "  overflow-x: auto;\n",
       "}\n",
       "#h2o-table-11 .h2o-table {\n",
       "  /* width: 100%; */\n",
       "  margin-top: 1em;\n",
       "  margin-bottom: 1em;\n",
       "}\n",
       "#h2o-table-11 .h2o-table caption {\n",
       "  white-space: nowrap;\n",
       "  caption-side: top;\n",
       "  text-align: left;\n",
       "  /* margin-left: 1em; */\n",
       "  margin: 0;\n",
       "  font-size: larger;\n",
       "}\n",
       "#h2o-table-11 .h2o-table thead {\n",
       "  white-space: nowrap; \n",
       "  position: sticky;\n",
       "  top: 0;\n",
       "  box-shadow: 0 -1px inset;\n",
       "}\n",
       "#h2o-table-11 .h2o-table tbody {\n",
       "  overflow: auto;\n",
       "}\n",
       "#h2o-table-11 .h2o-table th,\n",
       "#h2o-table-11 .h2o-table td {\n",
       "  text-align: right;\n",
       "  /* border: 1px solid; */\n",
       "}\n",
       "#h2o-table-11 .h2o-table tr:nth-child(even) {\n",
       "  /* background: #F5F5F5 */\n",
       "}\n",
       "\n",
       "</style>      \n",
       "<div id=\"h2o-table-11\" class=\"h2o-container\">\n",
       "  <table class=\"h2o-table\">\n",
       "    <caption>Scoring history from GLRM: </caption>\n",
       "    <thead><tr><th></th>\n",
       "<th>timestamp</th>\n",
       "<th>duration</th>\n",
       "<th>iterations</th>\n",
       "<th>step_size</th>\n",
       "<th>objective</th></tr></thead>\n",
       "    <tbody><tr><td></td>\n",
       "<td>2024-05-04 11:20:20</td>\n",
       "<td> 0.252 sec</td>\n",
       "<td>0.0</td>\n",
       "<td>0.6666667</td>\n",
       "<td>0.0000000</td></tr>\n",
       "<tr><td></td>\n",
       "<td>2024-05-04 11:20:20</td>\n",
       "<td> 0.253 sec</td>\n",
       "<td>1.0</td>\n",
       "<td>0.4444444</td>\n",
       "<td>0.0000000</td></tr>\n",
       "<tr><td></td>\n",
       "<td>2024-05-04 11:20:20</td>\n",
       "<td> 0.258 sec</td>\n",
       "<td>2.0</td>\n",
       "<td>0.4666667</td>\n",
       "<td>0.0000000</td></tr>\n",
       "<tr><td></td>\n",
       "<td>2024-05-04 11:20:20</td>\n",
       "<td> 0.259 sec</td>\n",
       "<td>3.0</td>\n",
       "<td>0.3111111</td>\n",
       "<td>0.0000000</td></tr>\n",
       "<tr><td></td>\n",
       "<td>2024-05-04 11:20:20</td>\n",
       "<td> 0.263 sec</td>\n",
       "<td>4.0</td>\n",
       "<td>0.3266667</td>\n",
       "<td>0.0000000</td></tr>\n",
       "<tr><td></td>\n",
       "<td>2024-05-04 11:20:20</td>\n",
       "<td> 0.266 sec</td>\n",
       "<td>5.0</td>\n",
       "<td>0.343</td>\n",
       "<td>0.0000000</td></tr>\n",
       "<tr><td></td>\n",
       "<td>2024-05-04 11:20:20</td>\n",
       "<td> 0.267 sec</td>\n",
       "<td>6.0</td>\n",
       "<td>0.2286667</td>\n",
       "<td>0.0000000</td></tr>\n",
       "<tr><td></td>\n",
       "<td>2024-05-04 11:20:20</td>\n",
       "<td> 0.269 sec</td>\n",
       "<td>7.0</td>\n",
       "<td>0.2401000</td>\n",
       "<td>0.0000000</td></tr>\n",
       "<tr><td></td>\n",
       "<td>2024-05-04 11:20:20</td>\n",
       "<td> 0.271 sec</td>\n",
       "<td>8.0</td>\n",
       "<td>0.252105</td>\n",
       "<td>0.0000000</td></tr>\n",
       "<tr><td></td>\n",
       "<td>2024-05-04 11:20:20</td>\n",
       "<td> 0.272 sec</td>\n",
       "<td>9.0</td>\n",
       "<td>0.1680700</td>\n",
       "<td>0.0000000</td></tr>\n",
       "<tr><td></td>\n",
       "<td>2024-05-04 11:20:20</td>\n",
       "<td> 0.275 sec</td>\n",
       "<td>10.0</td>\n",
       "<td>0.1764735</td>\n",
       "<td>0.0000000</td></tr>\n",
       "<tr><td></td>\n",
       "<td>2024-05-04 11:20:20</td>\n",
       "<td> 0.276 sec</td>\n",
       "<td>11.0</td>\n",
       "<td>0.1176490</td>\n",
       "<td>0.0000000</td></tr>\n",
       "<tr><td></td>\n",
       "<td>2024-05-04 11:20:20</td>\n",
       "<td> 0.279 sec</td>\n",
       "<td>12.0</td>\n",
       "<td>0.0784327</td>\n",
       "<td>0.0000000</td></tr>\n",
       "<tr><td></td>\n",
       "<td>2024-05-04 11:20:20</td>\n",
       "<td> 0.281 sec</td>\n",
       "<td>13.0</td>\n",
       "<td>0.0522884</td>\n",
       "<td>0.0000000</td></tr>\n",
       "<tr><td></td>\n",
       "<td>2024-05-04 11:20:20</td>\n",
       "<td> 0.283 sec</td>\n",
       "<td>14.0</td>\n",
       "<td>0.0261442</td>\n",
       "<td>0.0000000</td></tr>\n",
       "<tr><td></td>\n",
       "<td>2024-05-04 11:20:20</td>\n",
       "<td> 0.285 sec</td>\n",
       "<td>15.0</td>\n",
       "<td>0.0087147</td>\n",
       "<td>0.0000000</td></tr>\n",
       "<tr><td></td>\n",
       "<td>2024-05-04 11:20:20</td>\n",
       "<td> 0.288 sec</td>\n",
       "<td>16.0</td>\n",
       "<td>0.0021787</td>\n",
       "<td>0.0000000</td></tr>\n",
       "<tr><td></td>\n",
       "<td>2024-05-04 11:20:20</td>\n",
       "<td> 0.289 sec</td>\n",
       "<td>17.0</td>\n",
       "<td>0.0004357</td>\n",
       "<td>0.0000000</td></tr>\n",
       "<tr><td></td>\n",
       "<td>2024-05-04 11:20:20</td>\n",
       "<td> 0.290 sec</td>\n",
       "<td>18.0</td>\n",
       "<td>0.0000726</td>\n",
       "<td>0.0000000</td></tr></tbody>\n",
       "  </table>\n",
       "</div>\n",
       "</div><pre style=\"font-size: smaller; margin: 1em 0 0 0;\">\n",
       "\n",
       "[tips]\n",
       "Use `model.explain()` to inspect the model.\n",
       "--\n",
       "Use `h2o.display.toggle_user_tips()` to switch on/off this section.</pre>"
      ],
      "text/plain": [
       "Model Details\n",
       "=============\n",
       "H2OPrincipalComponentAnalysisEstimator : Principal Components Analysis\n",
       "Model Key: PCA_model_python_1714834838149_1\n",
       "\n",
       "\n",
       "Importance of components: \n",
       "                        pc1       pc2       pc3        pc4         pc5          pc6          pc7\n",
       "----------------------  --------  --------  ---------  ----------  -----------  -----------  -----------\n",
       "Standard deviation      2.33039   1.03878   0.687954   0.10899     0.050965     0.0476327    0.0140119\n",
       "Proportion of Variance  0.775818  0.154151  0.0676116  0.00169697  0.000371061  0.000324126  2.80475e-05\n",
       "Cumulative Proportion   0.775818  0.929968  0.99758    0.999277    0.999648     0.999972     1\n",
       "\n",
       "ModelMetricsPCA: pca\n",
       "** Reported on train data. **\n",
       "\n",
       "MSE: NaN\n",
       "RMSE: NaN\n",
       "Sum of Squared Error (Numeric): None\n",
       "Misclassification Error (Categorical): None\n",
       "\n",
       "Scoring history from GLRM: \n",
       "    timestamp            duration    iterations    step_size    objective\n",
       "--  -------------------  ----------  ------------  -----------  -----------\n",
       "    2024-05-04 11:20:20  0.252 sec   0             0.666667     5.53926e-30\n",
       "    2024-05-04 11:20:20  0.253 sec   1             0.444444     5.53926e-30\n",
       "    2024-05-04 11:20:20  0.258 sec   2             0.466667     2.73886e-30\n",
       "    2024-05-04 11:20:20  0.259 sec   3             0.311111     2.73886e-30\n",
       "    2024-05-04 11:20:20  0.263 sec   4             0.326667     7.51361e-31\n",
       "    2024-05-04 11:20:20  0.266 sec   5             0.343        5.08358e-31\n",
       "    2024-05-04 11:20:20  0.267 sec   6             0.228667     5.08358e-31\n",
       "    2024-05-04 11:20:20  0.269 sec   7             0.2401       4.9119e-31\n",
       "    2024-05-04 11:20:20  0.271 sec   8             0.252105     4.68363e-31\n",
       "    2024-05-04 11:20:20  0.272 sec   9             0.16807      4.68363e-31\n",
       "    2024-05-04 11:20:20  0.275 sec   10            0.176474     4.622e-31\n",
       "    2024-05-04 11:20:20  0.276 sec   11            0.117649     4.622e-31\n",
       "    2024-05-04 11:20:20  0.279 sec   12            0.0784327    4.622e-31\n",
       "    2024-05-04 11:20:20  0.281 sec   13            0.0522884    4.622e-31\n",
       "    2024-05-04 11:20:20  0.283 sec   14            0.0261442    4.622e-31\n",
       "    2024-05-04 11:20:20  0.285 sec   15            0.00871474   4.622e-31\n",
       "    2024-05-04 11:20:20  0.288 sec   16            0.00217869   4.622e-31\n",
       "    2024-05-04 11:20:20  0.289 sec   17            0.000435737  4.622e-31\n",
       "    2024-05-04 11:20:20  0.290 sec   18            7.26228e-05  4.622e-31\n",
       "\n",
       "[tips]\n",
       "Use `model.explain()` to inspect the model.\n",
       "--\n",
       "Use `h2o.display.toggle_user_tips()` to switch on/off this section."
      ]
     },
     "execution_count": 95,
     "metadata": {},
     "output_type": "execute_result"
    }
   ],
   "source": [
    "pea_pca.train(training_frame = data_h2o[:, ['X1','X2','X3','X4','X8','X18','X20']])"
   ]
  },
  {
   "cell_type": "markdown",
   "metadata": {},
   "source": [
    "### Evaluación "
   ]
  },
  {
   "cell_type": "code",
   "execution_count": 96,
   "metadata": {},
   "outputs": [
    {
     "data": {
      "text/html": [
       "\n",
       "<style>\n",
       "\n",
       "#h2o-table-12.h2o-container {\n",
       "  overflow-x: auto;\n",
       "}\n",
       "#h2o-table-12 .h2o-table {\n",
       "  /* width: 100%; */\n",
       "  margin-top: 1em;\n",
       "  margin-bottom: 1em;\n",
       "}\n",
       "#h2o-table-12 .h2o-table caption {\n",
       "  white-space: nowrap;\n",
       "  caption-side: top;\n",
       "  text-align: left;\n",
       "  /* margin-left: 1em; */\n",
       "  margin: 0;\n",
       "  font-size: larger;\n",
       "}\n",
       "#h2o-table-12 .h2o-table thead {\n",
       "  white-space: nowrap; \n",
       "  position: sticky;\n",
       "  top: 0;\n",
       "  box-shadow: 0 -1px inset;\n",
       "}\n",
       "#h2o-table-12 .h2o-table tbody {\n",
       "  overflow: auto;\n",
       "}\n",
       "#h2o-table-12 .h2o-table th,\n",
       "#h2o-table-12 .h2o-table td {\n",
       "  text-align: right;\n",
       "  /* border: 1px solid; */\n",
       "}\n",
       "#h2o-table-12 .h2o-table tr:nth-child(even) {\n",
       "  /* background: #F5F5F5 */\n",
       "}\n",
       "\n",
       "</style>      \n",
       "<div id=\"h2o-table-12\" class=\"h2o-container\">\n",
       "  <table class=\"h2o-table\">\n",
       "    <caption>Importance of components: </caption>\n",
       "    <thead><tr><th></th>\n",
       "<th>pc1</th>\n",
       "<th>pc2</th>\n",
       "<th>pc3</th>\n",
       "<th>pc4</th>\n",
       "<th>pc5</th>\n",
       "<th>pc6</th>\n",
       "<th>pc7</th></tr></thead>\n",
       "    <tbody><tr><td>Standard deviation</td>\n",
       "<td>2.3303913</td>\n",
       "<td>1.0387751</td>\n",
       "<td>0.6879544</td>\n",
       "<td>0.1089898</td>\n",
       "<td>0.0509650</td>\n",
       "<td>0.0476327</td>\n",
       "<td>0.0140119</td></tr>\n",
       "<tr><td>Proportion of Variance</td>\n",
       "<td>0.7758177</td>\n",
       "<td>0.1541505</td>\n",
       "<td>0.0676116</td>\n",
       "<td>0.0016970</td>\n",
       "<td>0.0003711</td>\n",
       "<td>0.0003241</td>\n",
       "<td>0.0000280</td></tr>\n",
       "<tr><td>Cumulative Proportion</td>\n",
       "<td>0.7758177</td>\n",
       "<td>0.9299682</td>\n",
       "<td>0.9975798</td>\n",
       "<td>0.9992768</td>\n",
       "<td>0.9996478</td>\n",
       "<td>0.9999720</td>\n",
       "<td>1.0</td></tr></tbody>\n",
       "  </table>\n",
       "</div>\n"
      ],
      "text/plain": [
       "Importance of components: \n",
       "                        pc1       pc2       pc3        pc4         pc5          pc6          pc7\n",
       "----------------------  --------  --------  ---------  ----------  -----------  -----------  -----------\n",
       "Standard deviation      2.33039   1.03878   0.687954   0.10899     0.050965     0.0476327    0.0140119\n",
       "Proportion of Variance  0.775818  0.154151  0.0676116  0.00169697  0.000371061  0.000324126  2.80475e-05\n",
       "Cumulative Proportion   0.775818  0.929968  0.99758    0.999277    0.999648     0.999972     1"
      ]
     },
     "execution_count": 96,
     "metadata": {},
     "output_type": "execute_result"
    }
   ],
   "source": [
    "pea_pca.summary()"
   ]
  },
  {
   "cell_type": "code",
   "execution_count": 98,
   "metadata": {},
   "outputs": [
    {
     "name": "stdout",
     "output_type": "stream",
     "text": [
      "pca prediction progress: |███████████████████████████████████████████████████████| (done) 100%\n"
     ]
    }
   ],
   "source": [
    "componentes = pea_pca.predict(data_h2o[:, ['X1','X2','X3','X4','X8','X18','X20']])"
   ]
  },
  {
   "cell_type": "code",
   "execution_count": 99,
   "metadata": {},
   "outputs": [
    {
     "data": {
      "text/html": [
       "<table class='dataframe'>\n",
       "<thead>\n",
       "<tr><th style=\"text-align: right;\">       PC1</th><th style=\"text-align: right;\">       PC2</th><th style=\"text-align: right;\">        PC3</th><th style=\"text-align: right;\">       PC4</th><th style=\"text-align: right;\">         PC5</th><th style=\"text-align: right;\">        PC6</th><th style=\"text-align: right;\">         PC7</th></tr>\n",
       "</thead>\n",
       "<tbody>\n",
       "<tr><td style=\"text-align: right;\">-1.01365  </td><td style=\"text-align: right;\"> 0.434837 </td><td style=\"text-align: right;\"> 0.473977  </td><td style=\"text-align: right;\">-0.0518599</td><td style=\"text-align: right;\"> 0.10407    </td><td style=\"text-align: right;\"> 0.0895798 </td><td style=\"text-align: right;\"> 0.00919252 </td></tr>\n",
       "<tr><td style=\"text-align: right;\">-0.345922 </td><td style=\"text-align: right;\">-0.169864 </td><td style=\"text-align: right;\"> 0.0399445 </td><td style=\"text-align: right;\"> 0.0626885</td><td style=\"text-align: right;\"> 0.053164   </td><td style=\"text-align: right;\">-0.0367725 </td><td style=\"text-align: right;\"> 0.00760961 </td></tr>\n",
       "<tr><td style=\"text-align: right;\">-0.925302 </td><td style=\"text-align: right;\"> 0.598776 </td><td style=\"text-align: right;\"> 0.0554647 </td><td style=\"text-align: right;\">-0.0726377</td><td style=\"text-align: right;\"> 0.0108615  </td><td style=\"text-align: right;\"> 0.0162289 </td><td style=\"text-align: right;\">-0.000474232</td></tr>\n",
       "<tr><td style=\"text-align: right;\"> 0.568866 </td><td style=\"text-align: right;\">-0.715884 </td><td style=\"text-align: right;\">-2.07255   </td><td style=\"text-align: right;\"> 0.174814 </td><td style=\"text-align: right;\"> 0.000300484</td><td style=\"text-align: right;\"> 0.0109494 </td><td style=\"text-align: right;\"> 0.0124603  </td></tr>\n",
       "<tr><td style=\"text-align: right;\">-0.614855 </td><td style=\"text-align: right;\">-0.0370655</td><td style=\"text-align: right;\">-0.109505  </td><td style=\"text-align: right;\">-0.0688769</td><td style=\"text-align: right;\">-0.0382454  </td><td style=\"text-align: right;\">-0.0491212 </td><td style=\"text-align: right;\">-0.00366165 </td></tr>\n",
       "<tr><td style=\"text-align: right;\"> 0.0399366</td><td style=\"text-align: right;\">-2.17812  </td><td style=\"text-align: right;\"> 0.82209   </td><td style=\"text-align: right;\">-0.0471118</td><td style=\"text-align: right;\">-0.0697627  </td><td style=\"text-align: right;\">-0.0242775 </td><td style=\"text-align: right;\"> 0.0059784  </td></tr>\n",
       "<tr><td style=\"text-align: right;\">-0.214036 </td><td style=\"text-align: right;\"> 1.56201  </td><td style=\"text-align: right;\">-0.00174921</td><td style=\"text-align: right;\"> 0.166789 </td><td style=\"text-align: right;\"> 0.0572474  </td><td style=\"text-align: right;\">-0.0913934 </td><td style=\"text-align: right;\">-0.0192229  </td></tr>\n",
       "<tr><td style=\"text-align: right;\">-0.269362 </td><td style=\"text-align: right;\">-0.762245 </td><td style=\"text-align: right;\"> 0.760922  </td><td style=\"text-align: right;\"> 0.0135618</td><td style=\"text-align: right;\"> 0.00762435 </td><td style=\"text-align: right;\">-0.0850098 </td><td style=\"text-align: right;\">-0.00594824 </td></tr>\n",
       "<tr><td style=\"text-align: right;\">-0.77643  </td><td style=\"text-align: right;\"> 0.0486   </td><td style=\"text-align: right;\">-0.0916788 </td><td style=\"text-align: right;\">-0.114074 </td><td style=\"text-align: right;\"> 0.0309418  </td><td style=\"text-align: right;\"> 0.00576714</td><td style=\"text-align: right;\">-0.00439315 </td></tr>\n",
       "<tr><td style=\"text-align: right;\">-0.674092 </td><td style=\"text-align: right;\">-0.342958 </td><td style=\"text-align: right;\"> 0.594652  </td><td style=\"text-align: right;\">-0.0335484</td><td style=\"text-align: right;\"> 0.0397559  </td><td style=\"text-align: right;\"> 0.0441563 </td><td style=\"text-align: right;\"> 0.00213533 </td></tr>\n",
       "</tbody>\n",
       "</table><pre style='font-size: smaller; margin-bottom: 1em;'>[10 rows x 7 columns]</pre>"
      ],
      "text/plain": [
       "       PC1         PC2          PC3         PC4           PC5          PC6           PC7\n",
       "----------  ----------  -----------  ----------  ------------  -----------  ------------\n",
       "-1.01365     0.434837    0.473977    -0.0518599   0.10407       0.0895798    0.00919252\n",
       "-0.345922   -0.169864    0.0399445    0.0626885   0.053164     -0.0367725    0.00760961\n",
       "-0.925302    0.598776    0.0554647   -0.0726377   0.0108615     0.0162289   -0.000474232\n",
       " 0.568866   -0.715884   -2.07255      0.174814    0.000300484   0.0109494    0.0124603\n",
       "-0.614855   -0.0370655  -0.109505    -0.0688769  -0.0382454    -0.0491212   -0.00366165\n",
       " 0.0399366  -2.17812     0.82209     -0.0471118  -0.0697627    -0.0242775    0.0059784\n",
       "-0.214036    1.56201    -0.00174921   0.166789    0.0572474    -0.0913934   -0.0192229\n",
       "-0.269362   -0.762245    0.760922     0.0135618   0.00762435   -0.0850098   -0.00594824\n",
       "-0.77643     0.0486     -0.0916788   -0.114074    0.0309418     0.00576714  -0.00439315\n",
       "-0.674092   -0.342958    0.594652    -0.0335484   0.0397559     0.0441563    0.00213533\n",
       "[10 rows x 7 columns]\n"
      ]
     },
     "execution_count": 99,
     "metadata": {},
     "output_type": "execute_result"
    }
   ],
   "source": [
    "componentes.head()"
   ]
  },
  {
   "cell_type": "markdown",
   "metadata": {},
   "source": [
    "### Implementación"
   ]
  },
  {
   "cell_type": "code",
   "execution_count": 108,
   "metadata": {},
   "outputs": [
    {
     "data": {
      "text/plain": [
       "['departamento', 'X1', 'X2', 'X3', 'X4', 'X8', 'X18', 'X20']"
      ]
     },
     "execution_count": 108,
     "metadata": {},
     "output_type": "execute_result"
    }
   ],
   "source": [
    "data_h2o.columns"
   ]
  },
  {
   "cell_type": "code",
   "execution_count": 109,
   "metadata": {},
   "outputs": [],
   "source": [
    "dataf = data_h2o[:, ['departamento']].cbind(componentes[:, ['PC1','PC2']])"
   ]
  },
  {
   "cell_type": "code",
   "execution_count": 110,
   "metadata": {},
   "outputs": [
    {
     "data": {
      "text/html": [
       "<table class='dataframe'>\n",
       "<thead>\n",
       "<tr><th>departamento  </th><th style=\"text-align: right;\">       PC1</th><th style=\"text-align: right;\">       PC2</th></tr>\n",
       "</thead>\n",
       "<tbody>\n",
       "<tr><td>Amazonas      </td><td style=\"text-align: right;\">-1.01365  </td><td style=\"text-align: right;\"> 0.434837 </td></tr>\n",
       "<tr><td>Ancash        </td><td style=\"text-align: right;\">-0.345922 </td><td style=\"text-align: right;\">-0.169864 </td></tr>\n",
       "<tr><td>Apurímac      </td><td style=\"text-align: right;\">-0.925302 </td><td style=\"text-align: right;\"> 0.598776 </td></tr>\n",
       "<tr><td>Arequipa      </td><td style=\"text-align: right;\"> 0.568866 </td><td style=\"text-align: right;\">-0.715884 </td></tr>\n",
       "<tr><td>Ayacucho      </td><td style=\"text-align: right;\">-0.614855 </td><td style=\"text-align: right;\">-0.0370655</td></tr>\n",
       "<tr><td>Cajamarca     </td><td style=\"text-align: right;\"> 0.0399366</td><td style=\"text-align: right;\">-2.17812  </td></tr>\n",
       "<tr><td>Callao        </td><td style=\"text-align: right;\">-0.214036 </td><td style=\"text-align: right;\"> 1.56201  </td></tr>\n",
       "<tr><td>Cusco         </td><td style=\"text-align: right;\">-0.269362 </td><td style=\"text-align: right;\">-0.762245 </td></tr>\n",
       "<tr><td>Huancavelica  </td><td style=\"text-align: right;\">-0.77643  </td><td style=\"text-align: right;\"> 0.0486   </td></tr>\n",
       "<tr><td>Huánuco       </td><td style=\"text-align: right;\">-0.674092 </td><td style=\"text-align: right;\">-0.342958 </td></tr>\n",
       "</tbody>\n",
       "</table><pre style='font-size: smaller; margin-bottom: 1em;'>[10 rows x 3 columns]</pre>"
      ],
      "text/plain": [
       "departamento           PC1         PC2\n",
       "--------------  ----------  ----------\n",
       "Amazonas        -1.01365     0.434837\n",
       "Ancash          -0.345922   -0.169864\n",
       "Apurímac        -0.925302    0.598776\n",
       "Arequipa         0.568866   -0.715884\n",
       "Ayacucho        -0.614855   -0.0370655\n",
       "Cajamarca        0.0399366  -2.17812\n",
       "Callao          -0.214036    1.56201\n",
       "Cusco           -0.269362   -0.762245\n",
       "Huancavelica    -0.77643     0.0486\n",
       "Huánuco         -0.674092   -0.342958\n",
       "[10 rows x 3 columns]\n"
      ]
     },
     "execution_count": 110,
     "metadata": {},
     "output_type": "execute_result"
    }
   ],
   "source": [
    "dataf.head()"
   ]
  },
  {
   "cell_type": "code",
   "execution_count": 111,
   "metadata": {},
   "outputs": [
    {
     "data": {
      "text/plain": [
       "SignificanceResult(statistic=-0.6346153846153846, pvalue=0.0006558697777217728)"
      ]
     },
     "execution_count": 111,
     "metadata": {},
     "output_type": "execute_result"
    }
   ],
   "source": [
    "ss.spearmanr(h2o.as_list(dataf['PC1']),h2o.as_list(dataf['PC2']))"
   ]
  },
  {
   "cell_type": "code",
   "execution_count": 113,
   "metadata": {},
   "outputs": [
    {
     "data": {
      "text/plain": [
       "'D:\\\\dataf.csv'"
      ]
     },
     "execution_count": 113,
     "metadata": {},
     "output_type": "execute_result"
    }
   ],
   "source": [
    "h2o.download_csv(dataf,\"D:/dataf.csv\")"
   ]
  }
 ],
 "metadata": {
  "kernelspec": {
   "display_name": "Python 3 (ipykernel)",
   "language": "python",
   "name": "python3"
  },
  "language_info": {
   "codemirror_mode": {
    "name": "ipython",
    "version": 3
   },
   "file_extension": ".py",
   "mimetype": "text/x-python",
   "name": "python",
   "nbconvert_exporter": "python",
   "pygments_lexer": "ipython3",
   "version": "3.10.14"
  }
 },
 "nbformat": 4,
 "nbformat_minor": 4
}
